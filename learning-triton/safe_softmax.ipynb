{
 "cells": [
  {
   "cell_type": "code",
   "execution_count": 1,
   "id": "d2132fe5-6ddd-4cc5-9312-12986192bf17",
   "metadata": {},
   "outputs": [],
   "source": [
    "import torch\n",
    "import triton\n",
    "from triton import language as tl"
   ]
  },
  {
   "cell_type": "code",
   "execution_count": 2,
   "id": "934edc98-5c39-4553-8f56-b6b56cd5a108",
   "metadata": {},
   "outputs": [],
   "source": [
    "@triton.jit\n",
    "def softmax_kernel(x_ptr, y_ptr, x_num_rows, x_num_cols, BLOCK_SIZE: tl.constexpr):\n",
    "    x_col = tl.program_id(0) # parallelize on the grid for columns\n",
    "    tid = tl.arange(0, BLOCK_SIZE)\n",
    "    x_offsets = tid * x_num_cols + x_col\n",
    "    mask = tid < x_num_rows\n",
    "    mask = mask & (x_col < x_num_cols)\n",
    "    \n",
    "    x = tl.load(x_ptr + x_offsets, mask=mask)\n",
    "    x_max = tl.max(x)\n",
    "    x = x - x_max\n",
    "    x_exp = tl.exp(x)\n",
    "    x_exp_sum = tl.sum(x_exp)\n",
    "    y = x_exp / x_exp_sum\n",
    "    tl.store(y_ptr + x_offsets, y, mask=mask)"
   ]
  },
  {
   "cell_type": "code",
   "execution_count": 3,
   "id": "f382abc0-c6a8-4214-8ca3-d00d9b79751e",
   "metadata": {},
   "outputs": [],
   "source": [
    "def softmax_triton(x: torch.Tensor) -> torch.Tensor:\n",
    "    y = torch.empty_like(x)\n",
    "    block_size = triton.next_power_of_2(x.shape[0])\n",
    "    \n",
    "    grid = lambda meta: (x.shape[1],)\n",
    "    softmax_kernel[grid](x, y, x.shape[0], x.shape[1], BLOCK_SIZE = block_size)\n",
    "    return y"
   ]
  },
  {
   "cell_type": "code",
   "execution_count": 4,
   "id": "cc60720a-39de-43c7-824f-4ce3ff48c989",
   "metadata": {},
   "outputs": [],
   "source": [
    "r1 = softmax_triton(torch.tensor([[1, 5], [3, 3], [5, 1]], dtype=torch.float32, device=\"cuda:0\"))"
   ]
  },
  {
   "cell_type": "code",
   "execution_count": 5,
   "id": "4ed4bb63-f90e-4ff1-b13d-202c35bcbd6b",
   "metadata": {},
   "outputs": [],
   "source": [
    "r2 = torch.softmax(torch.tensor([[1, 5], [3, 3], [5, 1]], dtype=torch.float32, device=\"cuda:0\"), 0)"
   ]
  },
  {
   "cell_type": "code",
   "execution_count": 6,
   "id": "d5164b51-75a1-4ab3-94e0-b697b9d5b011",
   "metadata": {},
   "outputs": [
    {
     "data": {
      "text/plain": [
       "tensor([[-9.2190e-05, -5.0333e-03],\n",
       "        [-6.8119e-04, -6.8118e-04],\n",
       "        [-5.0334e-03, -9.2188e-05]], device='cuda:0')"
      ]
     },
     "execution_count": 6,
     "metadata": {},
     "output_type": "execute_result"
    }
   ],
   "source": [
    "r1 - r2"
   ]
  },
  {
   "cell_type": "code",
   "execution_count": null,
   "id": "6890a97e-9390-415a-b8cd-12afd04f805f",
   "metadata": {},
   "outputs": [],
   "source": []
  }
 ],
 "metadata": {
  "kernelspec": {
   "display_name": "Python 3 (ipykernel)",
   "language": "python",
   "name": "python3"
  },
  "language_info": {
   "codemirror_mode": {
    "name": "ipython",
    "version": 3
   },
   "file_extension": ".py",
   "mimetype": "text/x-python",
   "name": "python",
   "nbconvert_exporter": "python",
   "pygments_lexer": "ipython3",
   "version": "3.9.21"
  }
 },
 "nbformat": 4,
 "nbformat_minor": 5
}
