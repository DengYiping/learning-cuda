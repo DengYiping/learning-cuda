{
 "cells": [
  {
   "cell_type": "code",
   "execution_count": 1,
   "id": "63bbfd57-07a8-4fda-b2c0-a5f2245cbbea",
   "metadata": {},
   "outputs": [],
   "source": [
    "import torch\n",
    "import triton\n",
    "import triton.language as tl"
   ]
  },
  {
   "cell_type": "code",
   "execution_count": 2,
   "id": "a16a1d96-e323-4de5-b0e0-47212c2fb611",
   "metadata": {},
   "outputs": [],
   "source": [
    "@triton.jit\n",
    "def vector_add(\n",
    "            x_ptr: tl.tensor,\n",
    "            y_ptr: tl.tensor,\n",
    "            output_ptr: tl.tensor,\n",
    "            n_elements: int,\n",
    "            BLOCK_SIZE: tl.constexpr\n",
    "        ):\n",
    "    # There are multiple 'programs' processing different data. We identify which program\n",
    "    # we are here:\n",
    "    pid = tl.program_id(axis=0)  # We use a 1D launch grid so axis is 0.\n",
    "\n",
    "    block_start = pid * BLOCK_SIZE\n",
    "    offsets = block_start + tl.arange(0, BLOCK_SIZE)\n",
    "    mask = offsets < n_elements\n",
    "\n",
    "    x = tl.load(x_ptr + offsets, mask=mask)\n",
    "    y = tl.load(y_ptr + offsets, mask=mask)\n",
    "    output = x + y\n",
    "    tl.store(output_ptr + offsets, output, mask=mask)"
   ]
  },
  {
   "cell_type": "code",
   "execution_count": 4,
   "id": "3f33aeae-3a18-412e-887a-d781215cbfe2",
   "metadata": {},
   "outputs": [],
   "source": [
    "def add(x: torch.Tensor, y: torch.Tensor) -> torch.Tensor:\n",
    "    output = torch.empty_like(x)\n",
    "    assert x.device == y.device and y.device == output.device\n",
    "    n_elements = output.numel()\n",
    "    # The SPMD launch grid denotes the number of kernel instances that run in parallel.\n",
    "    # It is analogous to CUDA launch grids. It can be either Tuple[int], or Callable(metaparameters) -> Tuple[int].\n",
    "    # In this case, we use a 1D grid where the size is the number of blocks:\n",
    "    grid = lambda meta: (triton.cdiv(n_elements, meta['BLOCK_SIZE']), )\n",
    "    vector_add[grid](x, y, output, n_elements, BLOCK_SIZE = 1024)\n",
    "    return output"
   ]
  },
  {
   "cell_type": "code",
   "execution_count": 10,
   "id": "5668d9e1-e4f6-483e-926f-6bb7a00327bd",
   "metadata": {},
   "outputs": [],
   "source": [
    "result = add(torch.tensor([1.0, 2.0, 3.0], device=\"cuda:0\", dtype=torch.float32), torch.tensor([4.0, 5.0, 6.0], device=\"cuda:0\", dtype=torch.float32))"
   ]
  },
  {
   "cell_type": "code",
   "execution_count": 11,
   "id": "356023f3-1bd8-4567-9fab-eb911c042d19",
   "metadata": {},
   "outputs": [
    {
     "data": {
      "text/plain": [
       "torch.float32"
      ]
     },
     "execution_count": 11,
     "metadata": {},
     "output_type": "execute_result"
    }
   ],
   "source": [
    "result.dtype"
   ]
  },
  {
   "cell_type": "code",
   "execution_count": 12,
   "id": "863561b4-525b-4ef7-805c-dfb270c4f31d",
   "metadata": {},
   "outputs": [
    {
     "data": {
      "text/plain": [
       "tensor([5., 7., 9.], device='cuda:0')"
      ]
     },
     "execution_count": 12,
     "metadata": {},
     "output_type": "execute_result"
    }
   ],
   "source": [
    "result"
   ]
  },
  {
   "cell_type": "code",
   "execution_count": 13,
   "id": "f21dc5aa-2ce3-4894-893d-df30d15f1f0d",
   "metadata": {},
   "outputs": [
    {
     "data": {
      "text/plain": [
       "array([5., 7., 9.], dtype=float32)"
      ]
     },
     "execution_count": 13,
     "metadata": {},
     "output_type": "execute_result"
    }
   ],
   "source": [
    "result.to(\"cpu\").numpy()"
   ]
  },
  {
   "cell_type": "code",
   "execution_count": null,
   "id": "cdb05209-6f51-4994-8803-3ed86b74730c",
   "metadata": {},
   "outputs": [],
   "source": []
  }
 ],
 "metadata": {
  "kernelspec": {
   "display_name": "Python 3 (ipykernel)",
   "language": "python",
   "name": "python3"
  },
  "language_info": {
   "codemirror_mode": {
    "name": "ipython",
    "version": 3
   },
   "file_extension": ".py",
   "mimetype": "text/x-python",
   "name": "python",
   "nbconvert_exporter": "python",
   "pygments_lexer": "ipython3",
   "version": "3.9.21"
  }
 },
 "nbformat": 4,
 "nbformat_minor": 5
}
