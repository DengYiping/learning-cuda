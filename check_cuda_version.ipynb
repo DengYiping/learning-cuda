{
 "cells": [
  {
   "cell_type": "code",
   "execution_count": 1,
   "id": "8b602aa1-c365-4172-82af-0416b6102b38",
   "metadata": {},
   "outputs": [],
   "source": [
    "import torch"
   ]
  },
  {
   "cell_type": "code",
   "execution_count": 2,
   "id": "8672a0b8-f82f-4ee5-8363-632a34d23ba2",
   "metadata": {},
   "outputs": [
    {
     "data": {
      "text/plain": [
       "'12.8'"
      ]
     },
     "execution_count": 2,
     "metadata": {},
     "output_type": "execute_result"
    }
   ],
   "source": [
    "torch.version.cuda"
   ]
  },
  {
   "cell_type": "code",
   "execution_count": 3,
   "id": "3b24787f-641a-4708-9deb-e14534d613f3",
   "metadata": {},
   "outputs": [
    {
     "data": {
      "text/plain": [
       "'2.7.0+cu128'"
      ]
     },
     "execution_count": 3,
     "metadata": {},
     "output_type": "execute_result"
    }
   ],
   "source": [
    "torch.__version__"
   ]
  },
  {
   "cell_type": "code",
   "execution_count": 4,
   "id": "99a5e558-c987-4efa-b94a-1329e2824b73",
   "metadata": {},
   "outputs": [
    {
     "data": {
      "text/plain": [
       "(9, 0)"
      ]
     },
     "execution_count": 4,
     "metadata": {},
     "output_type": "execute_result"
    }
   ],
   "source": [
    "torch.cuda.get_device_capability()"
   ]
  },
  {
   "cell_type": "code",
   "execution_count": 5,
   "id": "83ce9304-f72d-4d2b-8aae-bf7f1ff94a93",
   "metadata": {},
   "outputs": [
    {
     "data": {
      "text/plain": [
       "'NVIDIA H100 80GB HBM3'"
      ]
     },
     "execution_count": 5,
     "metadata": {},
     "output_type": "execute_result"
    }
   ],
   "source": [
    "torch.cuda.get_device_name()"
   ]
  },
  {
   "cell_type": "code",
   "execution_count": 6,
   "id": "746822e4-828e-4315-b1f6-12d18c31fe30",
   "metadata": {},
   "outputs": [
    {
     "name": "stdout",
     "output_type": "stream",
     "text": [
      "CUDA is available! Listing devices:\n",
      "Number of CUDA devices: 8\n",
      "Device 0: NVIDIA H100 80GB HBM3\n",
      "  Capability: (9, 0)\n",
      "  Total memory: 79.19 GB\n",
      "  Current device: True\n",
      "Device 1: NVIDIA H100 80GB HBM3\n",
      "  Capability: (9, 0)\n",
      "  Total memory: 79.19 GB\n",
      "  Current device: False\n",
      "Device 2: NVIDIA H100 80GB HBM3\n",
      "  Capability: (9, 0)\n",
      "  Total memory: 79.19 GB\n",
      "  Current device: False\n",
      "Device 3: NVIDIA H100 80GB HBM3\n",
      "  Capability: (9, 0)\n",
      "  Total memory: 79.19 GB\n",
      "  Current device: False\n",
      "Device 4: NVIDIA H100 80GB HBM3\n",
      "  Capability: (9, 0)\n",
      "  Total memory: 79.19 GB\n",
      "  Current device: False\n",
      "Device 5: NVIDIA H100 80GB HBM3\n",
      "  Capability: (9, 0)\n",
      "  Total memory: 79.19 GB\n",
      "  Current device: False\n",
      "Device 6: NVIDIA H100 80GB HBM3\n",
      "  Capability: (9, 0)\n",
      "  Total memory: 79.19 GB\n",
      "  Current device: False\n",
      "Device 7: NVIDIA H100 80GB HBM3\n",
      "  Capability: (9, 0)\n",
      "  Total memory: 79.19 GB\n",
      "  Current device: False\n"
     ]
    }
   ],
   "source": [
    "# Check if CUDA (NVIDIA GPU) is available\n",
    "if torch.cuda.is_available():\n",
    "    print(\"CUDA is available! Listing devices:\")\n",
    "    # Get the number of CUDA devices\n",
    "    num_cuda_devices = torch.cuda.device_count()\n",
    "    print(f\"Number of CUDA devices: {num_cuda_devices}\")\n",
    "\n",
    "    # List details for each CUDA device\n",
    "    for i in range(num_cuda_devices):\n",
    "        print(f\"Device {i}: {torch.cuda.get_device_name(i)}\")\n",
    "        print(f\"  Capability: {torch.cuda.get_device_capability(i)}\")\n",
    "        print(f\"  Total memory: {torch.cuda.get_device_properties(i).total_memory / (1024**3):.2f} GB\")\n",
    "        print(f\"  Current device: {torch.cuda.current_device() == i}\")\n",
    "else:\n",
    "    print(\"CUDA is not available. Using CPU.\")"
   ]
  },
  {
   "cell_type": "code",
   "execution_count": null,
   "id": "4aa1d519-6c02-4705-8fc5-721adea89ba8",
   "metadata": {},
   "outputs": [],
   "source": []
  }
 ],
 "metadata": {
  "kernelspec": {
   "display_name": "Python 3 (ipykernel)",
   "language": "python",
   "name": "python3"
  },
  "language_info": {
   "codemirror_mode": {
    "name": "ipython",
    "version": 3
   },
   "file_extension": ".py",
   "mimetype": "text/x-python",
   "name": "python",
   "nbconvert_exporter": "python",
   "pygments_lexer": "ipython3",
   "version": "3.9.21"
  }
 },
 "nbformat": 4,
 "nbformat_minor": 5
}
